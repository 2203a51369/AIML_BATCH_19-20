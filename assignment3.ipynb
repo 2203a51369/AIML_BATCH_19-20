{
  "nbformat": 4,
  "nbformat_minor": 0,
  "metadata": {
    "colab": {
      "provenance": [],
      "authorship_tag": "ABX9TyOG2XBvLaFCoghTR+VqYSzz",
      "include_colab_link": true
    },
    "kernelspec": {
      "name": "python3",
      "display_name": "Python 3"
    },
    "language_info": {
      "name": "python"
    }
  },
  "cells": [
    {
      "cell_type": "markdown",
      "metadata": {
        "id": "view-in-github",
        "colab_type": "text"
      },
      "source": [
        "<a href=\"https://colab.research.google.com/github/2203a51369/AIML_BATCH_19-20/blob/main/assignment3.ipynb\" target=\"_parent\"><img src=\"https://colab.research.google.com/assets/colab-badge.svg\" alt=\"Open In Colab\"/></a>"
      ]
    },
    {
      "cell_type": "code",
      "execution_count": 11,
      "metadata": {
        "colab": {
          "base_uri": "https://localhost:8080/"
        },
        "id": "A4Fzk8XqEKQQ",
        "outputId": "45ab99dc-659b-4c8a-c297-b3584f6be949"
      },
      "outputs": [
        {
          "output_type": "stream",
          "name": "stdout",
          "text": [
            "Min value: 10\n",
            "Max value: 25\n"
          ]
        }
      ],
      "source": [
        "class TreeNode:\n",
        "    def __init__(self, data, left=None, right=None):\n",
        "        self.val = data\n",
        "        self.left = left\n",
        "        self.right = right\n",
        "\n",
        "class Solution:\n",
        "    def helper(self, root, h, currentHeight):\n",
        "        if not root:\n",
        "            return\n",
        "        self.helper(root.left, h, currentHeight + 1)\n",
        "        self.helper(root.right, h, currentHeight + 1)\n",
        "        if currentHeight < h:\n",
        "            if currentHeight % 2 == 0:\n",
        "                if root.left and root.right:\n",
        "                    root.val = max(root.left.val, root.right.val)\n",
        "                elif root.left:\n",
        "                    root.val = root.left.val\n",
        "                elif root.right:\n",
        "                    root.val = root.right.val\n",
        "            else:\n",
        "                if root.left and root.right:\n",
        "                    root.val = min(root.left.val, root.right.val)\n",
        "                elif root.left:\n",
        "                    root.val = root.left.val\n",
        "                elif root.right:\n",
        "                    root.val = root.right.val\n",
        "\n",
        "    def height(self, root):\n",
        "        if not root:\n",
        "            return 0\n",
        "        return 1 + max(self.height(root.left), self.height(root.right))\n",
        "\n",
        "    def solve(self, root):\n",
        "        h = self.height(root)\n",
        "        self.helper(root, h, 0)\n",
        "        return root\n",
        "\n",
        "    def print_tree(self, root):\n",
        "        if root is not None:\n",
        "            self.print_tree(root.left)\n",
        "            print(root.val, end=', ')\n",
        "            self.print_tree(root.right)\n",
        "\n",
        "ob = Solution()\n",
        "root = TreeNode(1)\n",
        "root.left = TreeNode(2)\n",
        "root.right = TreeNode(3)\n",
        "root.left.left = TreeNode(10)\n",
        "root.left.right = TreeNode(12)\n",
        "root.right.left = TreeNode(36)\n",
        "root.right.right = TreeNode(25)\n",
        "\n",
        "root = ob.solve(root)\n",
        "\n",
        "print(f\"Min value: {root.left.left.val}\")\n",
        "print(f\"Max value: {root.right.right.val}\")\n"
      ]
    }
  ]
}