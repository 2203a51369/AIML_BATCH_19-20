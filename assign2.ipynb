{
  "nbformat": 4,
  "nbformat_minor": 0,
  "metadata": {
    "colab": {
      "provenance": [],
      "authorship_tag": "ABX9TyPTdvh9HEpqNobRDMs015WH",
      "include_colab_link": true
    },
    "kernelspec": {
      "name": "python3",
      "display_name": "Python 3"
    },
    "language_info": {
      "name": "python"
    }
  },
  "cells": [
    {
      "cell_type": "markdown",
      "metadata": {
        "id": "view-in-github",
        "colab_type": "text"
      },
      "source": [
        "<a href=\"https://colab.research.google.com/github/2203a51369/AIML_BATCH_19-20/blob/main/assign2.ipynb\" target=\"_parent\"><img src=\"https://colab.research.google.com/assets/colab-badge.svg\" alt=\"Open In Colab\"/></a>"
      ]
    },
    {
      "cell_type": "code",
      "execution_count": 1,
      "metadata": {
        "id": "iI4t85pqIHyX"
      },
      "outputs": [],
      "source": [
        "import numpy as np\n",
        "arr1=np.array([1,2,3,4,5,6])"
      ]
    },
    {
      "cell_type": "code",
      "source": [],
      "metadata": {
        "id": "3V6Us7DiJIxG"
      },
      "execution_count": null,
      "outputs": []
    },
    {
      "cell_type": "code",
      "source": [
        "import numpy as np\n",
        "arr1=np.array([1,2,3,4,5,6,])\n",
        "arr2=np.array([10,11,12,13,14,15])\n",
        "arr3=arr1*arr2\n",
        "arr4=arr1+arr2\n",
        "arr5=arr2/arr1\n",
        "arr6=arr2**arr1\n",
        "print(\"the product array is\",arr3)\n",
        "print(\"the sum array is\",arr4)\n",
        "print(\"the divided array is\",arr5)\n"
      ],
      "metadata": {
        "colab": {
          "base_uri": "https://localhost:8080/"
        },
        "id": "BtFmAANMJJ5O",
        "outputId": "3255b1d3-96e9-44fb-f4ec-82d4a4a08c30"
      },
      "execution_count": 2,
      "outputs": [
        {
          "output_type": "stream",
          "name": "stdout",
          "text": [
            "the product array is [10 22 36 52 70 90]\n",
            "the sum array is [11 13 15 17 19 21]\n",
            "the divided array is [10.    5.5   4.    3.25  2.8   2.5 ]\n"
          ]
        }
      ]
    }
  ]
}